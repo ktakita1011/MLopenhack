{
 "cells": [
  {
   "cell_type": "markdown",
   "metadata": {},
   "source": [
    "# Deep Learning 基礎\n",
    "## Keras で MNIST 実行\n",
    "\n",
    "## 必要なもの\n",
    "\n",
    "\n",
    "\n",
    "参考: https://github.com/keras-team/keras/blob/master/examples/mnist_mlp.py"
   ]
  },
  {
   "cell_type": "code",
   "execution_count": 1,
   "metadata": {},
   "outputs": [
    {
     "name": "stderr",
     "output_type": "stream",
     "text": [
      "Using TensorFlow backend.\n"
     ]
    }
   ],
   "source": [
    "import keras\n",
    "from keras.datasets import mnist\n",
    "from keras.models import Sequential\n",
    "from keras.layers import Dense, Dropout\n",
    "from keras.optimizers import RMSprop"
   ]
  },
  {
   "cell_type": "markdown",
   "metadata": {},
   "source": [
    "## ハイパーパラメーター設定"
   ]
  },
  {
   "cell_type": "code",
   "execution_count": 2,
   "metadata": {},
   "outputs": [],
   "source": [
    "batch_size = 128\n",
    "num_classes = 10\n",
    "epochs = 20"
   ]
  },
  {
   "cell_type": "markdown",
   "metadata": {},
   "source": [
    "## データのロード"
   ]
  },
  {
   "cell_type": "code",
   "execution_count": 3,
   "metadata": {},
   "outputs": [
    {
     "name": "stdout",
     "output_type": "stream",
     "text": [
      "Downloading data from https://s3.amazonaws.com/img-datasets/mnist.npz\n",
      "11493376/11490434 [==============================] - 3s 0us/step\n",
      "60000 train samples\n",
      "10000 test samples\n"
     ]
    }
   ],
   "source": [
    "# the data, split between train and test sets\n",
    "(x_train, y_train), (x_test, y_test) = mnist.load_data()\n",
    "\n",
    "x_train = x_train.reshape(60000, 784)\n",
    "x_test = x_test.reshape(10000, 784)\n",
    "x_train = x_train.astype('float32')\n",
    "x_test = x_test.astype('float32')\n",
    "x_train /= 255\n",
    "x_test /= 255\n",
    "print(x_train.shape[0], 'train samples')\n",
    "print(x_test.shape[0], 'test samples')"
   ]
  },
  {
   "cell_type": "code",
   "execution_count": 4,
   "metadata": {},
   "outputs": [],
   "source": [
    "# convert class vectors to binary class matrices\n",
    "\n",
    "y_train = keras.utils.to_categorical(y_train, num_classes)\n",
    "y_test = keras.utils.to_categorical(y_test, num_classes)"
   ]
  },
  {
   "cell_type": "markdown",
   "metadata": {},
   "source": [
    "## Neural Network 作成"
   ]
  },
  {
   "cell_type": "code",
   "execution_count": 5,
   "metadata": {},
   "outputs": [
    {
     "name": "stdout",
     "output_type": "stream",
     "text": [
      "_________________________________________________________________\n",
      "Layer (type)                 Output Shape              Param #   \n",
      "=================================================================\n",
      "dense_1 (Dense)              (None, 512)               401920    \n",
      "_________________________________________________________________\n",
      "dropout_1 (Dropout)          (None, 512)               0         \n",
      "_________________________________________________________________\n",
      "dense_2 (Dense)              (None, 512)               262656    \n",
      "_________________________________________________________________\n",
      "dropout_2 (Dropout)          (None, 512)               0         \n",
      "_________________________________________________________________\n",
      "dense_3 (Dense)              (None, 10)                5130      \n",
      "=================================================================\n",
      "Total params: 669,706\n",
      "Trainable params: 669,706\n",
      "Non-trainable params: 0\n",
      "_________________________________________________________________\n"
     ]
    }
   ],
   "source": [
    "model = Sequential()\n",
    "model.add(Dense(512, activation='relu', input_shape=(784,)))\n",
    "model.add(Dropout(0.2))\n",
    "model.add(Dense(512, activation='relu'))\n",
    "model.add(Dropout(0.2))\n",
    "model.add(Dense(num_classes, activation='softmax'))\n",
    "\n",
    "model.summary()\n",
    "\n",
    "model.compile(loss='categorical_crossentropy',\n",
    "              optimizer=RMSprop(),\n",
    "              metrics=['accuracy'])"
   ]
  },
  {
   "cell_type": "markdown",
   "metadata": {},
   "source": [
    "# トレーニング実行"
   ]
  },
  {
   "cell_type": "code",
   "execution_count": 6,
   "metadata": {},
   "outputs": [
    {
     "name": "stdout",
     "output_type": "stream",
     "text": [
      "Train on 60000 samples, validate on 10000 samples\n",
      "Epoch 1/20\n",
      "60000/60000 [==============================] - 6s 98us/step - loss: 0.2438 - acc: 0.9239 - val_loss: 0.0942 - val_acc: 0.9713\n",
      "Epoch 2/20\n",
      "60000/60000 [==============================] - 6s 92us/step - loss: 0.1019 - acc: 0.9688 - val_loss: 0.0926 - val_acc: 0.9706\n",
      "Epoch 3/20\n",
      "60000/60000 [==============================] - 5s 90us/step - loss: 0.0766 - acc: 0.9769 - val_loss: 0.0934 - val_acc: 0.9724\n",
      "Epoch 4/20\n",
      "60000/60000 [==============================] - 5s 86us/step - loss: 0.0601 - acc: 0.9819 - val_loss: 0.0746 - val_acc: 0.9775\n",
      "Epoch 5/20\n",
      "60000/60000 [==============================] - 5s 85us/step - loss: 0.0501 - acc: 0.9850 - val_loss: 0.0665 - val_acc: 0.9817\n",
      "Epoch 6/20\n",
      "60000/60000 [==============================] - 5s 89us/step - loss: 0.0440 - acc: 0.9866 - val_loss: 0.0584 - val_acc: 0.9840\n",
      "Epoch 7/20\n",
      "60000/60000 [==============================] - 6s 93us/step - loss: 0.0398 - acc: 0.9884 - val_loss: 0.0749 - val_acc: 0.9823\n",
      "Epoch 8/20\n",
      "60000/60000 [==============================] - 5s 89us/step - loss: 0.0330 - acc: 0.9901 - val_loss: 0.0909 - val_acc: 0.9798\n",
      "Epoch 9/20\n",
      "60000/60000 [==============================] - 5s 88us/step - loss: 0.0300 - acc: 0.9915 - val_loss: 0.1015 - val_acc: 0.9803\n",
      "Epoch 10/20\n",
      "60000/60000 [==============================] - 5s 85us/step - loss: 0.0285 - acc: 0.9915 - val_loss: 0.0848 - val_acc: 0.9832\n",
      "Epoch 11/20\n",
      "60000/60000 [==============================] - 5s 85us/step - loss: 0.0267 - acc: 0.9924 - val_loss: 0.0866 - val_acc: 0.9826\n",
      "Epoch 12/20\n",
      "60000/60000 [==============================] - 5s 88us/step - loss: 0.0268 - acc: 0.9921 - val_loss: 0.0916 - val_acc: 0.9827\n",
      "Epoch 13/20\n",
      "60000/60000 [==============================] - 6s 92us/step - loss: 0.0256 - acc: 0.9928 - val_loss: 0.0965 - val_acc: 0.9827\n",
      "Epoch 14/20\n",
      "60000/60000 [==============================] - 6s 92us/step - loss: 0.0234 - acc: 0.9933 - val_loss: 0.1032 - val_acc: 0.9821\n",
      "Epoch 15/20\n",
      "60000/60000 [==============================] - 5s 89us/step - loss: 0.0235 - acc: 0.9937 - val_loss: 0.0975 - val_acc: 0.9834\n",
      "Epoch 16/20\n",
      "60000/60000 [==============================] - 5s 85us/step - loss: 0.0223 - acc: 0.9941 - val_loss: 0.1027 - val_acc: 0.9844\n",
      "Epoch 17/20\n",
      "60000/60000 [==============================] - 5s 87us/step - loss: 0.0210 - acc: 0.9947 - val_loss: 0.0947 - val_acc: 0.9828\n",
      "Epoch 18/20\n",
      "60000/60000 [==============================] - 5s 90us/step - loss: 0.0167 - acc: 0.9952 - val_loss: 0.1047 - val_acc: 0.9841\n",
      "Epoch 19/20\n",
      "60000/60000 [==============================] - 6s 92us/step - loss: 0.0224 - acc: 0.9948 - val_loss: 0.1052 - val_acc: 0.9836\n",
      "Epoch 20/20\n",
      "60000/60000 [==============================] - 5s 90us/step - loss: 0.0189 - acc: 0.9948 - val_loss: 0.1103 - val_acc: 0.9824\n",
      "Test loss: 0.11028409579621848\n",
      "Test accuracy: 0.9824\n"
     ]
    }
   ],
   "source": [
    "history = model.fit(x_train, y_train,\n",
    "                    batch_size=batch_size,\n",
    "                    epochs=epochs,\n",
    "                    verbose=1,\n",
    "                    validation_data=(x_test, y_test))\n",
    "\n",
    "score = model.evaluate(x_test, y_test, verbose=0)\n",
    "\n",
    "print('Test loss:', score[0])\n",
    "print('Test accuracy:', score[1])"
   ]
  },
  {
   "cell_type": "markdown",
   "metadata": {},
   "source": [
    "# モデルの評価"
   ]
  },
  {
   "cell_type": "code",
   "execution_count": 7,
   "metadata": {},
   "outputs": [
    {
     "data": {
      "text/plain": [
       "array([[ 970,    1,    2,    1,    1,    0,    2,    1,    1,    1],\n",
       "       [   0, 1128,    1,    1,    0,    0,    2,    1,    2,    0],\n",
       "       [   3,    2, 1016,    0,    1,    0,    1,    7,    2,    0],\n",
       "       [   0,    0,    6,  989,    0,    2,    0,    6,    1,    6],\n",
       "       [   2,    0,    1,    0,  961,    0,    5,    3,    0,   10],\n",
       "       [   2,    0,    0,    7,    1,  873,    3,    0,    3,    3],\n",
       "       [   5,    2,    0,    1,    4,    2,  944,    0,    0,    0],\n",
       "       [   0,    1,    7,    0,    0,    0,    0, 1017,    1,    2],\n",
       "       [   7,    1,    2,    3,    4,    4,    1,    4,  944,    4],\n",
       "       [   1,    3,    0,    2,    7,    2,    0,    7,    2,  985]])"
      ]
     },
     "execution_count": 7,
     "metadata": {},
     "output_type": "execute_result"
    }
   ],
   "source": [
    "from sklearn.metrics import confusion_matrix\n",
    "import numpy as np\n",
    "\n",
    "predict_classes = model.predict_classes(x_test, batch_size=1)\n",
    "true_classes = np.argmax(y_test,1)\n",
    "\n",
    "confusion_matrix(true_classes, predict_classes)"
   ]
  },
  {
   "cell_type": "code",
   "execution_count": 8,
   "metadata": {},
   "outputs": [
    {
     "name": "stdout",
     "output_type": "stream",
     "text": [
      "             precision    recall  f1-score   support\n",
      "\n",
      "          0       0.98      0.99      0.98       980\n",
      "          1       0.99      0.99      0.99      1135\n",
      "          2       0.98      0.98      0.98      1032\n",
      "          3       0.99      0.98      0.98      1010\n",
      "          4       0.98      0.98      0.98       982\n",
      "          5       0.99      0.98      0.98       892\n",
      "          6       0.99      0.99      0.99       958\n",
      "          7       0.97      0.99      0.98      1028\n",
      "          8       0.99      0.97      0.98       974\n",
      "          9       0.97      0.98      0.98      1009\n",
      "\n",
      "avg / total       0.98      0.98      0.98     10000\n",
      "\n"
     ]
    }
   ],
   "source": [
    "from sklearn.metrics import classification_report\n",
    "\n",
    "print(classification_report(true_classes, predict_classes))"
   ]
  },
  {
   "cell_type": "code",
   "execution_count": null,
   "metadata": {},
   "outputs": [],
   "source": []
  }
 ],
 "metadata": {
  "kernelspec": {
   "display_name": "Python 3",
   "language": "python",
   "name": "python3"
  },
  "language_info": {
   "codemirror_mode": {
    "name": "ipython",
    "version": 3
   },
   "file_extension": ".py",
   "mimetype": "text/x-python",
   "name": "python",
   "nbconvert_exporter": "python",
   "pygments_lexer": "ipython3",
   "version": "3.6.6"
  }
 },
 "nbformat": 4,
 "nbformat_minor": 2
}
