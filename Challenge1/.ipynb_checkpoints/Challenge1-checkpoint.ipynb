{
 "cells": [
  {
   "cell_type": "code",
   "execution_count": null,
   "metadata": {},
   "outputs": [],
   "source": [
    "# Challenge 1 - Gearing up for Machine Learning\n",
    "\n",
    "import requests\n",
    "\n",
    "# Upload image from file URL.\n",
    "url = \"https://southcentralus.api.cognitive.microsoft.com/customvision/v2.0/Prediction/40648ad2-5464-4d69-ae86-badfd131c6d4/url\"\n",
    "data = \"{'Url': 'https://www.outdoorgearlab.com/photos/16/51/286670_31243_L2.jpg'}\"\n",
    "headers = {\n",
    "    'Content-Type': 'application/json',\n",
    "    'Prediction-Key': 'c85c49208c094e47aae03fe14f260a33'\n",
    "}\n",
    "\n",
    "response = requests.post(url, data=data, headers=headers)\n",
    "print (response.json()) # JSON Format\n",
    "print (response.content) # Row Data"
   ]
  },
  {
   "cell_type": "markdown",
   "metadata": {},
   "source": [
    "test"
   ]
  },
  {
   "cell_type": "code",
   "execution_count": 44,
   "metadata": {},
   "outputs": [
    {
     "name": "stdout",
     "output_type": "stream",
     "text": [
      "{'id': '718eed6f-c3c4-4bdb-b7e8-49332f750bd7', 'iteration': 'eac00179-15c8-45c3-af61-098940470d65', 'project': '40648ad2-5464-4d69-ae86-badfd131c6d4', 'created': '2018-09-19T15:20:26.3702127Z', 'predictions': [{'tagId': '40918149-07ea-40c8-a3b9-1d5e2aa4bd22', 'tagName': 'insulated', 'probability': 0.999980152}, {'tagId': '2e264df7-bce6-4036-a1c5-fca2f2a52a7b', 'tagName': 'hardshell', 'probability': 9.471101e-05}]}\n",
      "b'{\"id\":\"718eed6f-c3c4-4bdb-b7e8-49332f750bd7\",\"project\":\"40648ad2-5464-4d69-ae86-badfd131c6d4\",\"iteration\":\"eac00179-15c8-45c3-af61-098940470d65\",\"created\":\"2018-09-19T15:20:26.3702127Z\",\"predictions\":[{\"probability\":0.999980152,\"tagId\":\"40918149-07ea-40c8-a3b9-1d5e2aa4bd22\",\"tagName\":\"insulated\"},{\"probability\":9.471101E-05,\"tagId\":\"2e264df7-bce6-4036-a1c5-fca2f2a52a7b\",\"tagName\":\"hardshell\"}]}'\n"
     ]
    }
   ],
   "source": [
    "# Upload image from local file.\n",
    "im = open(\"../data/gear_images/insulated_jackets/10221581x1151234_zm.jpeg\", \"rb\", buffering=0)\n",
    "url = \"https://southcentralus.api.cognitive.microsoft.com/customvision/v2.0/Prediction/40648ad2-5464-4d69-ae86-badfd131c6d4/image\"\n",
    "data = im.readall()\n",
    "headers = {\n",
    "    'Content-Type': 'application/octet-stream',\n",
    "    'Prediction-Key': 'c85c49208c094e47aae03fe14f260a33'\n",
    "}\n",
    "response = requests.post(url, data=data, headers=headers)\n",
    "print (response.json()) # JSON Format\n",
    "print (response.content) # Row Data"
   ]
  },
  {
   "cell_type": "code",
   "execution_count": null,
   "metadata": {},
   "outputs": [],
   "source": []
  }
 ],
 "metadata": {
  "kernelspec": {
   "display_name": "Python 3",
   "language": "python",
   "name": "python3"
  },
  "language_info": {
   "codemirror_mode": {
    "name": "ipython",
    "version": 3
   },
   "file_extension": ".py",
   "mimetype": "text/x-python",
   "name": "python",
   "nbconvert_exporter": "python",
   "pygments_lexer": "ipython3",
   "version": "3.6.6"
  }
 },
 "nbformat": 4,
 "nbformat_minor": 2
}
