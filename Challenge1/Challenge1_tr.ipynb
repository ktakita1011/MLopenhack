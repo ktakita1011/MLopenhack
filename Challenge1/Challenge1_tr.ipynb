{
 "cells": [
  {
   "cell_type": "markdown",
   "metadata": {},
   "source": [
    "# 機械学習の基礎の基礎\n",
    "\n",
    "## 使用するもの\n",
    "\n",
    "- Scikit-Learn"
   ]
  },
  {
   "cell_type": "markdown",
   "metadata": {},
   "source": [
    "# 1. データのロード"
   ]
  },
  {
   "cell_type": "code",
   "execution_count": 1,
   "metadata": {},
   "outputs": [
    {
     "name": "stdout",
     "output_type": "stream",
     "text": [
      "(1797, 64)\n"
     ]
    }
   ],
   "source": [
    "# datasetを読み込む\n",
    "from sklearn.datasets import load_digits\n",
    " \n",
    "# load_digitsの引数でクラス数を指定\n",
    "# 2なら0と1, 3なら0と1と2が書かれたデータのみに絞られる\n",
    "# 最大は10で0から9となる\n",
    "digits = load_digits()\n",
    "\n",
    "# データ1件あたり、8x8=64の特徴が配列(numpyのndarray)となっていて\n",
    "# データ件数が1797件分ある\n",
    "print(digits.data.shape)"
   ]
  },
  {
   "cell_type": "code",
   "execution_count": 2,
   "metadata": {},
   "outputs": [
    {
     "name": "stdout",
     "output_type": "stream",
     "text": [
      "[[ 0.  0.  5. ...  0.  0.  0.]\n",
      " [ 0.  0.  0. ... 10.  0.  0.]\n",
      " [ 0.  0.  0. ... 16.  9.  0.]\n",
      " ...\n",
      " [ 0.  0.  1. ...  6.  0.  0.]\n",
      " [ 0.  0.  2. ... 12.  0.  0.]\n",
      " [ 0.  0. 10. ... 12.  1.  0.]]\n"
     ]
    }
   ],
   "source": [
    "# dataにデータが入ってる\n",
    "print(digits.data)"
   ]
  },
  {
   "cell_type": "code",
   "execution_count": 3,
   "metadata": {},
   "outputs": [
    {
     "name": "stdout",
     "output_type": "stream",
     "text": [
      "[0 1 2 ... 8 9 8]\n"
     ]
    }
   ],
   "source": [
    "# 正解ラベルはtargetに入っている\n",
    "print(digits.target)"
   ]
  },
  {
   "cell_type": "markdown",
   "metadata": {},
   "source": [
    "## データを画像として確認\n",
    "http://scikit-learn.org/stable/auto_examples/classification/plot_digits_classification.html"
   ]
  },
  {
   "cell_type": "code",
   "execution_count": 6,
   "metadata": {},
   "outputs": [
    {
     "name": "stderr",
     "output_type": "stream",
     "text": [
      "/anaconda/envs/py35/lib/python3.5/site-packages/matplotlib/font_manager.py:1328: UserWarning: findfont: Font family ['consolas'] not found. Falling back to DejaVu Sans\n",
      "  (prop.get_family(), self.defaultFamily[fontext]))\n"
     ]
    },
    {
     "data": {
      "image/png": "[encoded data removed]",
      "text/plain": [
       "<Figure size 432x288 with 1 Axes>"
      ]
     },
     "metadata": {},
     "output_type": "display_data"
    },
    {
     "data": {
      "image/png": "[encoded data removed]",
      "text/plain": [
       "<Figure size 800x480 with 1 Axes>"
      ]
     },
     "metadata": {},
     "output_type": "display_data"
    },
    {
     "data": {
      "image/png": "[encoded data removed]",
      "text/plain": [
       "<Figure size 800x480 with 1 Axes>"
      ]
     },
     "metadata": {},
     "output_type": "display_data"
    },
    {
     "data": {
      "image/png": "[encoded data removed]",
      "text/plain": [
       "<Figure size 800x480 with 1 Axes>"
      ]
     },
     "metadata": {},
     "output_type": "display_data"
    },
    {
     "data": {
      "image/png": "[encoded data removed]",
      "text/plain": [
       "<Figure size 800x480 with 1 Axes>"
      ]
     },
     "metadata": {},
     "output_type": "display_data"
    },
    {
     "data": {
      "image/png": "[encoded data removed]",
      "text/plain": [
       "<Figure size 800x480 with 1 Axes>"
      ]
     },
     "metadata": {},
     "output_type": "display_data"
    },
    {
     "data": {
      "image/png": "[encoded data removed]",
      "text/plain": [
       "<Figure size 800x480 with 1 Axes>"
      ]
     },
     "metadata": {},
     "output_type": "display_data"
    },
    {
     "data": {
      "image/png": "[encoded data removed]",
      "text/plain": [
       "<Figure size 800x480 with 1 Axes>"
      ]
     },
     "metadata": {},
     "output_type": "display_data"
    },
    {
     "data": {
      "image/png": "[encoded data removed]",
      "text/plain": [
       "<Figure size 800x480 with 1 Axes>"
      ]
     },
     "metadata": {},
     "output_type": "display_data"
    },
    {
     "data": {
      "image/png": "[encoded data removed]",
      "text/plain": [
       "<Figure size 800x480 with 1 Axes>"
      ]
     },
     "metadata": {},
     "output_type": "display_data"
    },
    {
     "data": {
      "text/plain": [
       "<Figure size 800x480 with 0 Axes>"
      ]
     },
     "metadata": {},
     "output_type": "display_data"
    }
   ],
   "source": [
    "#データの表示\n",
    "import matplotlib.pyplot as plt\n",
    "\n",
    "images_and_labels = list(zip(digits.images, digits.target))\n",
    "for index, (image, label) in enumerate(images_and_labels[:10]):\n",
    "    plt.subplot(2, 10, index + 1)\n",
    "    plt.axis('off')\n",
    "    plt.imshow(image, cmap=plt.cm.gray_r, interpolation='nearest')\n",
    "    plt.title('Training: %i' % label)\n",
    "#    font = {'family' : 'consolas',\n",
    "#            'size'   : 12 }\n",
    "#    plt.rc('font', **font)\n",
    "    \n",
    "    plt.figure(figsize=(10, 6), dpi=80)"
   ]
  },
  {
   "cell_type": "markdown",
   "metadata": {},
   "source": [
    "# 2. データを分割"
   ]
  },
  {
   "cell_type": "code",
   "execution_count": 7,
   "metadata": {},
   "outputs": [],
   "source": [
    "# 今回は1500件を学習データ、残りの297件をテストデータにする\n",
    "x_train = digits.data[:1500]\n",
    "y_train = digits.target[:1500]\n",
    " \n",
    "x_test = digits.data[1500:]\n",
    "y_test = digits.target[1500:]"
   ]
  },
  {
   "cell_type": "markdown",
   "metadata": {},
   "source": [
    "# 3. トレーニング実施"
   ]
  },
  {
   "cell_type": "code",
   "execution_count": 8,
   "metadata": {},
   "outputs": [
    {
     "name": "stdout",
     "output_type": "stream",
     "text": [
      "[3 7 4 6 3 1 3 9 1 7 6 8 4 3 1 4 0 5 3 6 9 6 3 7 5 4 4 7 2 8 2 2 5 7 9 5 4\n",
      " 8 8 4 9 0 8 9 8 0 1 2 3 4 5 6 8 1 9 0 1 2 3 4 5 6 9 0 1 2 3 4 5 6 7 1 7 4\n",
      " 9 1 5 6 5 0 9 8 1 8 4 1 7 7 1 5 1 6 0 2 2 1 8 2 0 1 2 6 8 7 7 7 3 4 6 6 6\n",
      " 9 9 1 5 0 9 5 2 8 0 1 7 6 3 2 1 7 9 6 3 1 3 9 1 8 6 8 4 3 1 4 0 5 3 6 3 6\n",
      " 1 7 5 4 4 7 2 2 5 7 3 1 9 4 1 0 8 9 8 0 1 2 3 4 5 6 7 8 9 0 1 2 8 4 5 6 7\n",
      " 8 9 0 8 2 8 4 5 6 7 8 9 0 9 5 5 6 5 0 9 8 9 8 4 1 7 7 3 5 1 0 0 2 2 7 8 2\n",
      " 0 1 2 6 8 8 7 5 8 4 6 6 6 4 9 1 5 0 9 5 2 8 2 0 0 8 7 6 3 2 1 7 4 6 3 1 3\n",
      " 9 1 7 6 8 4 5 1 4 0 5 3 6 9 6 8 7 5 4 4 7 2 8 2 2 5 7 9 5 4 8 8 4 9 0 8 9\n",
      " 8]\n"
     ]
    }
   ],
   "source": [
    "from sklearn.linear_model import LogisticRegression\n",
    "lr = LogisticRegression()\n",
    "# fit関数で学習を行う\n",
    "lr.fit(x_train, y_train)\n",
    " \n",
    "# predict関数で予測を行う\n",
    "pred = lr.predict(x_test) \n",
    "print(pred)"
   ]
  },
  {
   "cell_type": "code",
   "execution_count": 9,
   "metadata": {},
   "outputs": [
    {
     "data": {
      "text/plain": [
       "array([[25,  0,  0,  0,  1,  0,  1,  0,  0,  0],\n",
       "       [ 0, 26,  0,  2,  0,  0,  0,  0,  3,  0],\n",
       "       [ 0,  0, 27,  0,  0,  0,  0,  0,  0,  0],\n",
       "       [ 0,  1,  0, 19,  0,  2,  0,  2,  6,  0],\n",
       "       [ 0,  0,  0,  0, 30,  0,  0,  0,  0,  3],\n",
       "       [ 0,  2,  0,  0,  0, 28,  0,  0,  0,  0],\n",
       "       [ 0,  0,  0,  0,  0,  0, 30,  0,  0,  0],\n",
       "       [ 0,  1,  0,  0,  0,  0,  0, 27,  2,  0],\n",
       "       [ 0,  2,  0,  0,  0,  0,  0,  0, 26,  0],\n",
       "       [ 0,  2,  0,  2,  0,  0,  0,  1,  0, 26]])"
      ]
     },
     "execution_count": 9,
     "metadata": {},
     "output_type": "execute_result"
    }
   ],
   "source": [
    "from sklearn.metrics import confusion_matrix\n",
    "# 予測結果を、Confusion Matrixで表示\n",
    "confusion_matrix(y_test, pred, labels=digits.target_names)"
   ]
  },
  {
   "cell_type": "code",
   "execution_count": 10,
   "metadata": {},
   "outputs": [
    {
     "name": "stdout",
     "output_type": "stream",
     "text": [
      "             precision    recall  f1-score   support\n",
      "\n",
      "          0       1.00      0.93      0.96        27\n",
      "          1       0.76      0.84      0.80        31\n",
      "          2       1.00      1.00      1.00        27\n",
      "          3       0.83      0.63      0.72        30\n",
      "          4       0.97      0.91      0.94        33\n",
      "          5       0.93      0.93      0.93        30\n",
      "          6       0.97      1.00      0.98        30\n",
      "          7       0.90      0.90      0.90        30\n",
      "          8       0.70      0.93      0.80        28\n",
      "          9       0.90      0.84      0.87        31\n",
      "\n",
      "avg / total       0.90      0.89      0.89       297\n",
      "\n"
     ]
    }
   ],
   "source": [
    "from sklearn.metrics import classification_report\n",
    "\n",
    "print(classification_report(y_test, pred))"
   ]
  },
  {
   "cell_type": "code",
   "execution_count": null,
   "metadata": {},
   "outputs": [],
   "source": []
  }
 ],
 "metadata": {
  "kernelspec": {
   "display_name": "Python 3",
   "language": "python",
   "name": "python3"
  },
  "language_info": {
   "codemirror_mode": {
    "name": "ipython",
    "version": 3
   },
   "file_extension": ".py",
   "mimetype": "text/x-python",
   "name": "python",
   "nbconvert_exporter": "python",
   "pygments_lexer": "ipython3",
   "version": "3.6.6"
  }
 },
 "nbformat": 4,
 "nbformat_minor": 2
}
