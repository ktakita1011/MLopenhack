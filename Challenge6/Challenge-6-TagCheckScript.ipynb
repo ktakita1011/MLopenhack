{
 "cells": [
  {
   "cell_type": "code",
   "execution_count": 18,
   "metadata": {},
   "outputs": [
    {
     "name": "stdout",
     "output_type": "stream",
     "text": [
      "x1,y1 =  393 , 199\n",
      "x2,y2 =  508 , 282\n"
     ]
    },
    {
     "data": {
      "image/png": "[encoded data removed]",
      "text/plain": [
       "<Figure size 432x288 with 1 Axes>"
      ]
     },
     "metadata": {},
     "output_type": "display_data"
    }
   ],
   "source": [
    "# -*- coding:utf-8 -*-\n",
    "from __future__ import absolute_import\n",
    "from __future__ import unicode_literals\n",
    "\n",
    "import json\n",
    "import pandas as pd\n",
    "\n",
    "\n",
    "\n",
    "\n",
    "##########################################\n",
    "# タグ付けしたファイルのタグ情報が正しいかチェックするスクリプト\n",
    "##########################################\n",
    "\n",
    "\n",
    "#タグ情報読み込み\n",
    "with open('../data/helmet_rn.json') as f:\n",
    "    result = json.load(f)\n",
    "    #print(\"result = \",result)\n",
    "\n",
    "\n",
    "\n",
    "#タグ情報の任意のインデックス番号を入力して、タグ情報と画像を付け合わせてタグづけされている部分を確認する\n",
    "\n",
    "import matplotlib as plt\n",
    "import numpy as np\n",
    "import matplotlib.pyplot as plt\n",
    "from glob import glob\n",
    "from PIL import Image\n",
    "\n",
    "def checkPosition(select):\n",
    "    #filepath取得\n",
    "    filepaths = sorted(glob('../data/helmet_rn/*.jpg'))\n",
    "\n",
    "    #ファイルパスの数\n",
    "    len(filepaths)\n",
    "    #print(len(filepaths))\n",
    "\n",
    "    #任意の番号をからファイルパス取得\n",
    "    filepath = filepaths[select]\n",
    "    #print(\"filepath = \",filepath)\n",
    "\n",
    "    fileNo = filepath.replace('../data/helmet_rn/','')\n",
    "    fileNo = fileNo.replace('.jpg','')\n",
    "    fileNo = fileNo.replace('.JPG','')\n",
    "\n",
    "    #表示してみる\n",
    "    img = Image.open(filepath)\n",
    "    #print(\"img = \",img)\n",
    "    #img.show()\n",
    "\n",
    "\n",
    "    #画像をarrayに変換\n",
    "    img_list = np.asarray(img)\n",
    "    #貼り付け\n",
    "    plt.imshow(img_list)\n",
    "    #表示\n",
    "    #plt.show()\n",
    "\n",
    "    \n",
    "    #タグ情報取得\n",
    "    vals = result['frames'][fileNo]\n",
    "    #len(vals)\n",
    "    val = vals[0]\n",
    "    #print(\"val = \",val)\n",
    "\n",
    "    x1 = val['x1']\n",
    "    x2 = val['x2']\n",
    "\n",
    "    y1 = val['y1']\n",
    "    y2 = val['y2']\n",
    "\n",
    "\n",
    "    #計測時の画面サイズにリサイズする\n",
    "    img = Image.open(filepath).resize((val['width'], val['height']))\n",
    "\n",
    "    #情報\n",
    "    print(\"x1,y1 = \",x1,\",\",y1)\n",
    "    print(\"x2,y2 = \",x2,\",\",y2)\n",
    "\n",
    "    #指定座標のデータから画像を貼り付け\n",
    "    img = np.array(img)\n",
    "    img_part = img[y1:y2,x1:x2]\n",
    "    #plt.imshow(img_part)\n",
    "\n",
    "    #タグの場所を確認する\n",
    "    #img = Image.open(filepath)\n",
    "    plt.imshow(img_part)\n",
    "\n",
    "\n",
    "    \n",
    "#タグ情報配列のインデックスをintで渡す\n",
    "#エラーハンドリングしていないので、エラーが出る場合は、タグ情報がない＝タグづけされていない\n",
    "\n",
    "checkPosition(120)\n"
   ]
  },
  {
   "cell_type": "code",
   "execution_count": null,
   "metadata": {},
   "outputs": [],
   "source": []
  }
 ],
 "metadata": {
  "kernelspec": {
   "display_name": "Python 3",
   "language": "python",
   "name": "python3"
  },
  "language_info": {
   "codemirror_mode": {
    "name": "ipython",
    "version": 3
   },
   "file_extension": ".py",
   "mimetype": "text/x-python",
   "name": "python",
   "nbconvert_exporter": "python",
   "pygments_lexer": "ipython3",
   "version": "3.5.5"
  }
 },
 "nbformat": 4,
 "nbformat_minor": 2
}
