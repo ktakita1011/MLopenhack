{
 "cells": [
  {
   "cell_type": "code",
   "execution_count": 1,
   "metadata": {},
   "outputs": [
    {
     "name": "stderr",
     "output_type": "stream",
     "text": [
      "Using TensorFlow backend.\n"
     ]
    }
   ],
   "source": [
    "from keras.applications.vgg16 import VGG16\n",
    "from keras.models import Sequential\n",
    "from keras.models import Model\n",
    "from keras.layers import Input, Dense, Dropout, Activation, Flatten\n",
    "from keras.optimizers import SGD\n",
    "from pathlib import Path\n",
    "\n",
    "from PIL import Image\n",
    "from PIL import ImageOps\n",
    "import numpy as np\n",
    "from sklearn.model_selection import train_test_split"
   ]
  },
  {
   "cell_type": "code",
   "execution_count": 2,
   "metadata": {},
   "outputs": [],
   "source": [
    "import tensorflow as tf\n",
    "from keras.backend.tensorflow_backend import set_session\n",
    "config = tf.ConfigProto(\n",
    "    gpu_options=tf.GPUOptions(\n",
    "        visible_device_list=\"2\", # specify GPU number\n",
    "        allow_growth=True\n",
    "    )\n",
    ")\n",
    "set_session(tf.Session(config=config))"
   ]
  },
  {
   "cell_type": "code",
   "execution_count": 3,
   "metadata": {},
   "outputs": [
    {
     "name": "stdout",
     "output_type": "stream",
     "text": [
      "gear_images_128\\axes : 0\n",
      "gear_images_128\\boots : 1\n",
      "gear_images_128\\carabiners : 2\n",
      "gear_images_128\\crampons : 3\n",
      "gear_images_128\\gloves : 4\n",
      "gear_images_128\\hardshell_jackets : 5\n",
      "gear_images_128\\harnesses : 6\n",
      "gear_images_128\\helmets : 7\n",
      "gear_images_128\\insulated_jackets : 8\n",
      "gear_images_128\\pulleys : 9\n",
      "gear_images_128\\rope : 10\n",
      "gear_images_128\\tents : 11\n"
     ]
    }
   ],
   "source": [
    "category = 0\n",
    "x = []\n",
    "y = []\n",
    "\n",
    "def prepare_dataset(file):    \n",
    "    try:\n",
    "        im = Image.open(file)\n",
    "        arr = np.array(im)\n",
    "        x.append(arr)\n",
    "        y.append(category)        \n",
    "    except:\n",
    "        print(\"cannot add to dataset:\", file)\n",
    "\n",
    "# Loop all data and create dataset\n",
    "for dir in Path('./gear_images_128').iterdir():\n",
    "    for file in dir.iterdir():\n",
    "        prepare_dataset(file)\n",
    "    print(dir, ':', category)\n",
    "    category += 1\n",
    "\n",
    "x = np.asarray(x)\n",
    "y = np.asarray(y)\n",
    "\n",
    "# Split data into 70% train and 30% test. \n",
    "x_train, x_test, y_train, y_test = train_test_split(x, y, test_size=0.3, random_state=10)\n",
    "x_test, x_val, y_test, y_val = train_test_split(x_test, y_test, test_size=0.167, random_state=10)"
   ]
  },
  {
   "cell_type": "code",
   "execution_count": 4,
   "metadata": {},
   "outputs": [
    {
     "name": "stdout",
     "output_type": "stream",
     "text": [
      "(1485, 128, 128, 3)\n",
      "(530, 128, 128, 3)\n",
      "(107, 128, 128, 3)\n"
     ]
    }
   ],
   "source": [
    "print(x_train.shape)\n",
    "print(x_test.shape)\n",
    "print(x_val.shape)"
   ]
  },
  {
   "cell_type": "code",
   "execution_count": 5,
   "metadata": {},
   "outputs": [
    {
     "data": {
      "text/plain": [
       "(2122,)"
      ]
     },
     "execution_count": 5,
     "metadata": {},
     "output_type": "execute_result"
    }
   ],
   "source": [
    "y.shape"
   ]
  },
  {
   "cell_type": "code",
   "execution_count": 6,
   "metadata": {},
   "outputs": [
    {
     "data": {
      "text/plain": [
       "array([ 0,  0,  0, ..., 11, 11, 11])"
      ]
     },
     "execution_count": 6,
     "metadata": {},
     "output_type": "execute_result"
    }
   ],
   "source": [
    "y"
   ]
  },
  {
   "cell_type": "code",
   "execution_count": 4,
   "metadata": {
    "scrolled": false
   },
   "outputs": [
    {
     "name": "stdout",
     "output_type": "stream",
     "text": [
      "_________________________________________________________________\n",
      "Layer (type)                 Output Shape              Param #   \n",
      "=================================================================\n",
      "input_1 (InputLayer)         (None, 128, 128, 3)       0         \n",
      "_________________________________________________________________\n",
      "block1_conv1 (Conv2D)        (None, 128, 128, 64)      1792      \n",
      "_________________________________________________________________\n",
      "block1_conv2 (Conv2D)        (None, 128, 128, 64)      36928     \n",
      "_________________________________________________________________\n",
      "block1_pool (MaxPooling2D)   (None, 64, 64, 64)        0         \n",
      "_________________________________________________________________\n",
      "block2_conv1 (Conv2D)        (None, 64, 64, 128)       73856     \n",
      "_________________________________________________________________\n",
      "block2_conv2 (Conv2D)        (None, 64, 64, 128)       147584    \n",
      "_________________________________________________________________\n",
      "block2_pool (MaxPooling2D)   (None, 32, 32, 128)       0         \n",
      "_________________________________________________________________\n",
      "block3_conv1 (Conv2D)        (None, 32, 32, 256)       295168    \n",
      "_________________________________________________________________\n",
      "block3_conv2 (Conv2D)        (None, 32, 32, 256)       590080    \n",
      "_________________________________________________________________\n",
      "block3_conv3 (Conv2D)        (None, 32, 32, 256)       590080    \n",
      "_________________________________________________________________\n",
      "block3_pool (MaxPooling2D)   (None, 16, 16, 256)       0         \n",
      "_________________________________________________________________\n",
      "block4_conv1 (Conv2D)        (None, 16, 16, 512)       1180160   \n",
      "_________________________________________________________________\n",
      "block4_conv2 (Conv2D)        (None, 16, 16, 512)       2359808   \n",
      "_________________________________________________________________\n",
      "block4_conv3 (Conv2D)        (None, 16, 16, 512)       2359808   \n",
      "_________________________________________________________________\n",
      "block4_pool (MaxPooling2D)   (None, 8, 8, 512)         0         \n",
      "_________________________________________________________________\n",
      "block5_conv1 (Conv2D)        (None, 8, 8, 512)         2359808   \n",
      "_________________________________________________________________\n",
      "block5_conv2 (Conv2D)        (None, 8, 8, 512)         2359808   \n",
      "_________________________________________________________________\n",
      "block5_conv3 (Conv2D)        (None, 8, 8, 512)         2359808   \n",
      "_________________________________________________________________\n",
      "block5_pool (MaxPooling2D)   (None, 4, 4, 512)         0         \n",
      "_________________________________________________________________\n",
      "flatten_1 (Flatten)          (None, 8192)              0         \n",
      "_________________________________________________________________\n",
      "dense_1 (Dense)              (None, 2048)              16779264  \n",
      "_________________________________________________________________\n",
      "dropout_1 (Dropout)          (None, 2048)              0         \n",
      "_________________________________________________________________\n",
      "dense_2 (Dense)              (None, 1024)              2098176   \n",
      "_________________________________________________________________\n",
      "dense_3 (Dense)              (None, 12)                12300     \n",
      "=================================================================\n",
      "Total params: 33,604,428\n",
      "Trainable params: 25,969,164\n",
      "Non-trainable params: 7,635,264\n",
      "_________________________________________________________________\n"
     ]
    }
   ],
   "source": [
    "nb_classes = 12\n",
    "img_rows, img_cols = 128, 128\n",
    "input_tensor = Input(shape=(img_rows, img_cols, 3))\n",
    "vgg16_model = VGG16(include_top=False, weights='imagenet', input_tensor=input_tensor)\n",
    "\n",
    "top_model = Sequential()\n",
    "top_model = vgg16_model.output\n",
    "top_model = Flatten()(top_model)\n",
    "top_model = Dense(2048, activation='relu')(top_model)\n",
    "top_model = Dropout(0.5)(top_model)\n",
    "top_model = Dense(1024, activation='relu')(top_model)\n",
    "predictions = Dense(nb_classes, activation='softmax')(top_model)\n",
    "\n",
    "model = Model(inputs=vgg16_model.input, outputs=predictions)\n",
    "\n",
    "for layer in model.layers[:15]:\n",
    "    layer.trainable = False\n",
    "model.compile(loss='sparse_categorical_crossentropy', optimizer=SGD(lr=1e-3, decay=1e-6, momentum=0.9, nesterov=True), metrics=['accuracy'])\n",
    "model.summary()"
   ]
  },
  {
   "cell_type": "code",
   "execution_count": 5,
   "metadata": {},
   "outputs": [
    {
     "name": "stdout",
     "output_type": "stream",
     "text": [
      "Train on 530 samples, validate on 107 samples\n",
      "Epoch 1/10\n",
      "530/530 [==============================] - 90s 171ms/step - loss: 9.8627 - acc: 0.3453 - val_loss: 10.1444 - val_acc: 0.3551\n",
      "\n",
      "Epoch 00001: val_loss improved from inf to 10.14438, saving model to weights.01-10.14.hdf5\n",
      "Epoch 2/10\n",
      "530/530 [==============================] - 68s 129ms/step - loss: 11.1393 - acc: 0.3075 - val_loss: 11.9003 - val_acc: 0.2617\n",
      "\n",
      "Epoch 00002: val_loss did not improve from 10.14438\n",
      "Epoch 3/10\n",
      "530/530 [==============================] - 67s 127ms/step - loss: 12.9553 - acc: 0.1962 - val_loss: 12.5028 - val_acc: 0.2243\n",
      "\n",
      "Epoch 00003: val_loss did not improve from 10.14438\n",
      "Epoch 4/10\n",
      "530/530 [==============================] - 68s 128ms/step - loss: 12.5600 - acc: 0.2208 - val_loss: 12.5028 - val_acc: 0.2243\n",
      "\n",
      "Epoch 00004: val_loss did not improve from 10.14438\n",
      "Epoch 5/10\n",
      "530/530 [==============================] - 71s 135ms/step - loss: 12.5600 - acc: 0.2208 - val_loss: 12.5028 - val_acc: 0.2243\n",
      "\n",
      "Epoch 00005: val_loss did not improve from 10.14438\n",
      "Epoch 6/10\n",
      "530/530 [==============================] - 66s 124ms/step - loss: 12.5600 - acc: 0.2208 - val_loss: 12.5028 - val_acc: 0.2243\n",
      "\n",
      "Epoch 00006: val_loss did not improve from 10.14438\n",
      "Epoch 7/10\n",
      "530/530 [==============================] - 67s 126ms/step - loss: 12.5600 - acc: 0.2208 - val_loss: 12.5028 - val_acc: 0.2243\n",
      "\n",
      "Epoch 00007: val_loss did not improve from 10.14438\n",
      "Epoch 8/10\n",
      "530/530 [==============================] - 84s 159ms/step - loss: 12.5600 - acc: 0.2208 - val_loss: 12.5028 - val_acc: 0.2243\n",
      "\n",
      "Epoch 00008: val_loss did not improve from 10.14438\n",
      "Epoch 9/10\n",
      "530/530 [==============================] - 74s 140ms/step - loss: 12.5600 - acc: 0.2208 - val_loss: 12.5028 - val_acc: 0.2243\n",
      "\n",
      "Epoch 00009: val_loss did not improve from 10.14438\n",
      "Epoch 10/10\n",
      "530/530 [==============================] - 75s 142ms/step - loss: 12.5600 - acc: 0.2208 - val_loss: 12.5028 - val_acc: 0.2243\n",
      "\n",
      "Epoch 00010: val_loss did not improve from 10.14438\n"
     ]
    },
    {
     "data": {
      "text/plain": [
       "<keras.callbacks.History at 0x24e9b128>"
      ]
     },
     "execution_count": 5,
     "metadata": {},
     "output_type": "execute_result"
    }
   ],
   "source": [
    "from keras.callbacks import EarlyStopping,ModelCheckpoint\n",
    "nb_epoch = 10\n",
    "early_stopping = EarlyStopping(monitor='val_loss', patience=10 , verbose=1)\n",
    "checkpointer = ModelCheckpoint(filepath='weights.{epoch:02d}-{val_loss:.2f}.hdf5', monitor='val_loss', verbose=1, save_best_only=True)\n",
    "model.fit(x=x_test, y=y_test, batch_size=128, epochs=nb_epoch, verbose=1, validation_data=(x_val, y_val), callbacks=[early_stopping, checkpointer])"
   ]
  },
  {
   "cell_type": "code",
   "execution_count": null,
   "metadata": {},
   "outputs": [],
   "source": []
  }
 ],
 "metadata": {
  "kernelspec": {
   "display_name": "Python 3",
   "language": "python",
   "name": "python3"
  },
  "language_info": {
   "codemirror_mode": {
    "name": "ipython",
    "version": 3
   },
   "file_extension": ".py",
   "mimetype": "text/x-python",
   "name": "python",
   "nbconvert_exporter": "python",
   "pygments_lexer": "ipython3",
   "version": "3.6.7"
  },
  "toc": {
   "base_numbering": 1,
   "nav_menu": {},
   "number_sections": true,
   "sideBar": true,
   "skip_h1_title": false,
   "title_cell": "Table of Contents",
   "title_sidebar": "Contents",
   "toc_cell": false,
   "toc_position": {},
   "toc_section_display": true,
   "toc_window_display": false
  },
  "varInspector": {
   "cols": {
    "lenName": 16,
    "lenType": 16,
    "lenVar": 40
   },
   "kernels_config": {
    "python": {
     "delete_cmd_postfix": "",
     "delete_cmd_prefix": "del ",
     "library": "var_list.py",
     "varRefreshCmd": "print(var_dic_list())"
    },
    "r": {
     "delete_cmd_postfix": ") ",
     "delete_cmd_prefix": "rm(",
     "library": "var_list.r",
     "varRefreshCmd": "cat(var_dic_list()) "
    }
   },
   "types_to_exclude": [
    "module",
    "function",
    "builtin_function_or_method",
    "instance",
    "_Feature"
   ],
   "window_display": false
  }
 },
 "nbformat": 4,
 "nbformat_minor": 2
}
